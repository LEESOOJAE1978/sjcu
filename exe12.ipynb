{
  "nbformat": 4,
  "nbformat_minor": 0,
  "metadata": {
    "colab": {
      "provenance": [],
      "collapsed_sections": [],
      "authorship_tag": "ABX9TyOgRUmzW20ciJ1d+d47AEkx",
      "include_colab_link": true
    },
    "kernelspec": {
      "name": "python3",
      "display_name": "Python 3"
    },
    "language_info": {
      "name": "python"
    }
  },
  "cells": [
    {
      "cell_type": "markdown",
      "metadata": {
        "id": "view-in-github",
        "colab_type": "text"
      },
      "source": [
        "<a href=\"https://colab.research.google.com/github/LEESOOJAE1978/sjcu/blob/main/exe12.ipynb\" target=\"_parent\"><img src=\"https://colab.research.google.com/assets/colab-badge.svg\" alt=\"Open In Colab\"/></a>"
      ]
    },
    {
      "cell_type": "code",
      "source": [
        "#본 코드는 텐서플로우 2.0 프로그래밍, 김환희, 위키북스 p203~216을 활용했습니다\n",
        "import tensorflow as tf\n",
        "import keras\n",
        "import numpy as np"
      ],
      "metadata": {
        "id": "yQaZHKklSzci"
      },
      "execution_count": 43,
      "outputs": []
    },
    {
      "cell_type": "markdown",
      "source": [
        "리뷰데이터 불러오기"
      ],
      "metadata": {
        "id": "qaynSY2TSERQ"
      }
    },
    {
      "cell_type": "code",
      "execution_count": 44,
      "metadata": {
        "id": "ccUCdMEkR89I"
      },
      "outputs": [],
      "source": [
        "path_to_train_file = tf.keras.utils.get_file('train.txt', 'https://raw.githubusercontent.com/e9t/nsmc/master/ratings_train.txt')\n",
        "path_to_test_file = tf.keras.utils.get_file('test.txt', 'https://raw.githubusercontent.com/e9t/nsmc/master/ratings_test.txt')"
      ]
    },
    {
      "cell_type": "markdown",
      "source": [
        "데이터 로드 및 확인"
      ],
      "metadata": {
        "id": "e9H1QhkQTw6K"
      }
    },
    {
      "cell_type": "code",
      "source": [
        "#데이터를 메모리에 불러오고 인코딩 형식으로 utf-8을 지정\n",
        "train_txt = open(path_to_train_file, 'rb').read().decode(encoding = 'utf-8')\n",
        "test_txt = open(path_to_test_file, 'rb').read().decode(encoding = 'utf-8')\n",
        "\n",
        "#텍스트가 총 몇 자인지 확인\n",
        "print('Length of train text: {} characters'.format(len(train_txt)))\n",
        "print('Length of test text: {} characters'.format(len(test_txt)))\n",
        "print()\n",
        "\n",
        "#처음 300자 확인\n",
        "print(train_txt[:300])"
      ],
      "metadata": {
        "colab": {
          "base_uri": "https://localhost:8080/"
        },
        "id": "Qck5Cj4HTwXI",
        "outputId": "6c1f6e1d-a15b-4cd2-b45c-8d84ac60e090"
      },
      "execution_count": 45,
      "outputs": [
        {
          "output_type": "stream",
          "name": "stdout",
          "text": [
            "Length of train text: 6937271 characters\n",
            "Length of test text: 2318260 characters\n",
            "\n",
            "id\tdocument\tlabel\n",
            "9976970\t아 더빙.. 진짜 짜증나네요 목소리\t0\n",
            "3819312\t흠...포스터보고 초딩영화줄....오버연기조차 가볍지 않구나\t1\n",
            "10265843\t너무재밓었다그래서보는것을추천한다\t0\n",
            "9045019\t교도소 이야기구먼 ..솔직히 재미는 없다..평점 조정\t0\n",
            "6483659\t사이몬페그의 익살스런 연기가 돋보였던 영화!스파이더맨에서 늙어보이기만 했던 커스틴 던스트가 너무나도 이뻐보였다\t1\n",
            "5403919\t막 걸음마 뗀 3세부터 초등학교 1학년생인 8살용영화.ㅋㅋㅋ...별반개도 아까움.\t0\n",
            "7797314\t원작의\n"
          ]
        }
      ]
    },
    {
      "cell_type": "markdown",
      "source": [
        "학습을 위한 정답 데이터(Y)만들기"
      ],
      "metadata": {
        "id": "PFIiR2V-VzGY"
      }
    },
    {
      "cell_type": "code",
      "source": [
        "train_Y = np.array([[int(row.split('\\t')[2])] for row in train_txt.split('\\n')[1:] if row.count('\\t') > 0])\n",
        "test_Y = np.array([[int(row.split('\\t')[2])] for row in test_txt.split('\\n')[1:] if row.count('\\t') > 0])\n",
        "print(train_Y.shape, test_Y.shape)\n",
        "print(train_Y[:5])"
      ],
      "metadata": {
        "id": "Y3_00WjFSkVY",
        "colab": {
          "base_uri": "https://localhost:8080/"
        },
        "outputId": "d3aba41d-2050-4222-ce4a-c7deb46fec42"
      },
      "execution_count": 46,
      "outputs": [
        {
          "output_type": "stream",
          "name": "stdout",
          "text": [
            "(150000, 1) (50000, 1)\n",
            "[[0]\n",
            " [1]\n",
            " [0]\n",
            " [0]\n",
            " [1]]\n"
          ]
        }
      ]
    },
    {
      "cell_type": "markdown",
      "source": [
        "문자 데이터 전처리 함수"
      ],
      "metadata": {
        "id": "qi-_r7GM8B1X"
      }
    },
    {
      "cell_type": "code",
      "source": [
        "import re #https://github.com/yoonkim/CNN_sentence/blob/master/process_data.py\n",
        "\n",
        "def clean_str(string, TREC=False):\n",
        "    \"\"\"\n",
        "    Tokenization/string cleaning for all datasets except for SST.\n",
        "    Every dataset is lower cased except for TREC\n",
        "    \"\"\"\n",
        "    string = re.sub(r\"[^가-힣A-Za-z0-9(),!?\\'\\`]\", \" \", string)     \n",
        "    string = re.sub(r\"\\'s\", \" \\'s\", string) \n",
        "    string = re.sub(r\"\\'ve\", \" \\'ve\", string) \n",
        "    string = re.sub(r\"n\\'t\", \" n\\'t\", string) \n",
        "    string = re.sub(r\"\\'re\", \" \\'re\", string) \n",
        "    string = re.sub(r\"\\'d\", \" \\'d\", string) \n",
        "    string = re.sub(r\"\\'ll\", \" \\'ll\", string) \n",
        "    string = re.sub(r\",\", \" , \", string) \n",
        "    string = re.sub(r\"!\", \" ! \", string) \n",
        "    string = re.sub(r\"\\(\", \" \\( \", string) \n",
        "    string = re.sub(r\"\\)\", \" \\) \", string) \n",
        "    string = re.sub(r\"\\?\", \" \\? \", string) \n",
        "    string = re.sub(r\"\\s{2,}\", \" \", string)\n",
        "    string = re.sub(r\"\\'{2,}\", \"\\'\", string)\n",
        "    string = re.sub(r\"\\'\", \"\", string)\n",
        "\n",
        "    return string.lower()\n"
      ],
      "metadata": {
        "id": "cCE4CZpXWz2o"
      },
      "execution_count": 47,
      "outputs": []
    },
    {
      "cell_type": "code",
      "source": [
        "train_text_X = [row.split('\\t')[1] for row in train_txt.split('\\n')[1:] if row.count('\\t') > 0]\n",
        "train_text_X = [clean_str(sentence) for sentence in train_text_X]\n",
        "\n",
        "#문장을 띄어쓰기 단어로 단어 분리\n",
        "sentences = [sentence.split(' ') for sentence in train_text_X]\n",
        "for i in range(5):\n",
        "  print(sentences[i])"
      ],
      "metadata": {
        "colab": {
          "base_uri": "https://localhost:8080/"
        },
        "id": "yoGvyf9P9s-9",
        "outputId": "69abeed9-6c52-4873-97d8-50ee44ead418"
      },
      "execution_count": 48,
      "outputs": [
        {
          "output_type": "stream",
          "name": "stdout",
          "text": [
            "['아', '더빙', '진짜', '짜증나네요', '목소리']\n",
            "['흠', '포스터보고', '초딩영화줄', '오버연기조차', '가볍지', '않구나']\n",
            "['너무재밓었다그래서보는것을추천한다']\n",
            "['교도소', '이야기구먼', '솔직히', '재미는', '없다', '평점', '조정']\n",
            "['사이몬페그의', '익살스런', '연기가', '돋보였던', '영화', '!', '스파이더맨에서', '늙어보이기만', '했던', '커스틴', '던스트가', '너무나도', '이뻐보였다']\n"
          ]
        }
      ]
    },
    {
      "cell_type": "code",
      "source": [
        "import matplotlib.pyplot as plt\n",
        "sentence_len = [len(sentence) for sentence in sentences]\n",
        "sentence_len.sort()\n",
        "plt.plot(sentence_len)\n",
        "plt.show()\n",
        "\n",
        "print(sum([int(1<=25) for l in sentence_len]))"
      ],
      "metadata": {
        "colab": {
          "base_uri": "https://localhost:8080/",
          "height": 283
        },
        "id": "prjXzjhl-gXq",
        "outputId": "039521a5-01d8-4936-ac6a-6f666e2f847d"
      },
      "execution_count": 50,
      "outputs": [
        {
          "output_type": "display_data",
          "data": {
            "text/plain": [
              "<Figure size 432x288 with 1 Axes>"
            ],
            "image/png": "[encoded data removed]"
          },
          "metadata": {
            "needs_background": "light"
          }
        },
        {
          "output_type": "stream",
          "name": "stdout",
          "text": [
            "150000\n"
          ]
        }
      ]
    },
    {
      "cell_type": "markdown",
      "source": [
        "최대 단어 5음절 길이로 정제"
      ],
      "metadata": {
        "id": "5QZGxS89CXHs"
      }
    },
    {
      "cell_type": "code",
      "source": [
        "sentences_new = [ ]\n",
        "for sentence in sentences:\n",
        "  sentences_new.append([word[:5] for word in sentence][:25])\n",
        "sentences = sentences_new\n",
        "for i in range(5):\n",
        "  print(sentences[i])"
      ],
      "metadata": {
        "colab": {
          "base_uri": "https://localhost:8080/"
        },
        "id": "G6yHDIEL-vVa",
        "outputId": "031b3e3f-8876-4c13-9f1f-a3f1938dd98f"
      },
      "execution_count": 51,
      "outputs": [
        {
          "output_type": "stream",
          "name": "stdout",
          "text": [
            "['아', '더빙', '진짜', '짜증나네요', '목소리']\n",
            "['흠', '포스터보고', '초딩영화줄', '오버연기조', '가볍지', '않구나']\n",
            "['너무재밓었']\n",
            "['교도소', '이야기구먼', '솔직히', '재미는', '없다', '평점', '조정']\n",
            "['사이몬페그', '익살스런', '연기가', '돋보였던', '영화', '!', '스파이더맨', '늙어보이기', '했던', '커스틴', '던스트가', '너무나도', '이뻐보였다']\n"
          ]
        }
      ]
    },
    {
      "cell_type": "markdown",
      "source": [
        "패딩 작업을 통해 문장의 길이 25개 단어로 동일하게 하고 출현 빈도가 가장 높은 단어만 사용하기 위해 Tokenizer 사용"
      ],
      "metadata": {
        "id": "guBxOvclDpBS"
      }
    },
    {
      "cell_type": "code",
      "source": [
        "from tensorflow.keras.preprocessing.text import Tokenizer\n",
        "from tensorflow.keras.preprocessing.sequence import pad_sequences\n",
        "\n",
        "tokenizer = Tokenizer(num_words = 20000) #데이터에 출현하는 모든 단어의 개수를 세고 빈도수로 정렬해서 num_words에 지정된 만큼만 숫자로 반환, 나머지는 0으로 반환\n",
        "tokenizer.fit_on_texts(sentences) #Tokenizer에 데이터를 실제로 입력\n",
        "train_X = tokenizer.texts_to_sequences(sentences) #문장을 입력받아 숫자로 반환\n",
        "train_X = pad_sequences(train_X, padding = 'post') #패딩 추가, padding 파라미터는 pre와 post, pre는 문장 앞에, post는 문장 뒤에 패딩 더함\n",
        "\n",
        "print(train_X[:5])"
      ],
      "metadata": {
        "colab": {
          "base_uri": "https://localhost:8080/"
        },
        "id": "_-HsfK8GCssq",
        "outputId": "87f7037b-cce0-4a18-c91e-7c0c8e9c4761"
      },
      "execution_count": 52,
      "outputs": [
        {
          "output_type": "stream",
          "name": "stdout",
          "text": [
            "[[   25   884     8  5795  1111     0     0     0     0     0     0     0\n",
            "      0     0     0     0     0     0     0     0     0     0     0     0\n",
            "      0]\n",
            " [  588  5796  6697     0     0     0     0     0     0     0     0     0\n",
            "      0     0     0     0     0     0     0     0     0     0     0     0\n",
            "      0]\n",
            " [    0     0     0     0     0     0     0     0     0     0     0     0\n",
            "      0     0     0     0     0     0     0     0     0     0     0     0\n",
            "      0]\n",
            " [   71   346    31    35 10468     0     0     0     0     0     0     0\n",
            "      0     0     0     0     0     0     0     0     0     0     0     0\n",
            "      0]\n",
            " [  106  5338     4     2  2169   869   573     0     0     0     0     0\n",
            "      0     0     0     0     0     0     0     0     0     0     0     0\n",
            "      0]]\n"
          ]
        }
      ]
    },
    {
      "cell_type": "code",
      "source": [
        "print(tokenizer.index_word[19999])\n",
        "print(tokenizer.index_word[20000])\n",
        "temp = tokenizer.texts_to_sequences(['#$#$#','경우는', '잊혀질', '연기가'])\n",
        "print(temp)\n",
        "temp = pad_sequences(temp, padding = 'post')"
      ],
      "metadata": {
        "colab": {
          "base_uri": "https://localhost:8080/"
        },
        "id": "q4dCWyI1EFKi",
        "outputId": "3f44745d-889a-4f8b-b03d-914c693c2080"
      },
      "execution_count": 54,
      "outputs": [
        {
          "output_type": "stream",
          "name": "stdout",
          "text": [
            "경우는\n",
            "잊혀질\n",
            "[[], [19999], [], [106]]\n"
          ]
        }
      ]
    },
    {
      "cell_type": "markdown",
      "source": [
        "모델생성"
      ],
      "metadata": {
        "id": "t8QVlUersB-G"
      }
    },
    {
      "cell_type": "code",
      "source": [
        "model = tf.keras.Sequential([\n",
        "    tf.keras.layers.Embedding(20000, 300, input_length=25),\n",
        "    tf.keras.layers.LSTM(units=50),\n",
        "    tf.keras.layers.Dense(2, activation='softmax')\n",
        "])\n",
        "\n",
        "model.compile(optimizer='adam', loss= 'sparse_categorical_crossentropy', metrics=['accuracy'])\n",
        "model.summary()"
      ],
      "metadata": {
        "colab": {
          "base_uri": "https://localhost:8080/"
        },
        "id": "rWDEa98SrhhX",
        "outputId": "afce69c5-d1d5-4c35-92fe-ceb7b1944235"
      },
      "execution_count": 55,
      "outputs": [
        {
          "output_type": "stream",
          "name": "stdout",
          "text": [
            "Model: \"sequential_1\"\n",
            "_________________________________________________________________\n",
            " Layer (type)                Output Shape              Param #   \n",
            "=================================================================\n",
            " embedding_1 (Embedding)     (None, 25, 300)           6000000   \n",
            "                                                                 \n",
            " lstm_1 (LSTM)               (None, 50)                70200     \n",
            "                                                                 \n",
            " dense_1 (Dense)             (None, 2)                 102       \n",
            "                                                                 \n",
            "=================================================================\n",
            "Total params: 6,070,302\n",
            "Trainable params: 6,070,302\n",
            "Non-trainable params: 0\n",
            "_________________________________________________________________\n"
          ]
        }
      ]
    },
    {
      "cell_type": "markdown",
      "source": [
        "학습"
      ],
      "metadata": {
        "id": "4E4MU4hdszum"
      }
    },
    {
      "cell_type": "code",
      "source": [
        "history = model.fit(train_X, train_Y, epochs=5, batch_size = 128, validation_split = 0.2)"
      ],
      "metadata": {
        "colab": {
          "base_uri": "https://localhost:8080/"
        },
        "id": "Y1NiOMl6slon",
        "outputId": "be1d20dc-46fa-4038-9e07-91ad025f2815"
      },
      "execution_count": 56,
      "outputs": [
        {
          "output_type": "stream",
          "name": "stdout",
          "text": [
            "Epoch 1/5\n",
            "938/938 [==============================] - 133s 140ms/step - loss: 0.4367 - accuracy: 0.7818 - val_loss: 0.3824 - val_accuracy: 0.8238\n",
            "Epoch 2/5\n",
            "938/938 [==============================] - 130s 138ms/step - loss: 0.3242 - accuracy: 0.8473 - val_loss: 0.3839 - val_accuracy: 0.8215\n",
            "Epoch 3/5\n",
            "938/938 [==============================] - 127s 135ms/step - loss: 0.2722 - accuracy: 0.8691 - val_loss: 0.4252 - val_accuracy: 0.8151\n",
            "Epoch 4/5\n",
            "938/938 [==============================] - 125s 133ms/step - loss: 0.2276 - accuracy: 0.8892 - val_loss: 0.4521 - val_accuracy: 0.8151\n",
            "Epoch 5/5\n",
            "938/938 [==============================] - 124s 132ms/step - loss: 0.1940 - accuracy: 0.9046 - val_loss: 0.5426 - val_accuracy: 0.8061\n"
          ]
        }
      ]
    },
    {
      "cell_type": "markdown",
      "source": [
        "학습결과 확인\n"
      ],
      "metadata": {
        "id": "JjDKQsYjwSOc"
      }
    },
    {
      "cell_type": "code",
      "source": [
        "import matplotlib.pyplot as plt\n",
        "\n",
        "plt.figure(figsize = (12,4))\n",
        "\n",
        "plt.subplot(1,2,1)\n",
        "plt.plot(history.history['loss'], 'b-', label = 'loss')\n",
        "plt.plot(history.history['val_loss'], 'r--', label = 'val_loss')\n",
        "plt.xlabel('Epoch')\n",
        "plt.legend()\n",
        "plt.subplot(1,2,2)\n",
        "plt.plot(history.history['accuracy'], 'g-', label = 'accuracy')\n",
        "plt.plot(history.history['val_accuracy'], 'k--', label = 'val_accuracy')\n",
        "plt.xlabel('Epoch')\n",
        "plt.ylim(0.7, 1)\n",
        "plt.show()"
      ],
      "metadata": {
        "colab": {
          "base_uri": "https://localhost:8080/",
          "height": 283
        },
        "id": "DyzjzC-9s8nf",
        "outputId": "d11ce755-7cb4-4be6-a217-86342e7c0b19"
      },
      "execution_count": 57,
      "outputs": [
        {
          "output_type": "display_data",
          "data": {
            "text/plain": [
              "<Figure size 864x288 with 2 Axes>"
            ],
            "image/png": "[encoded data removed]"
          },
          "metadata": {
            "needs_background": "light"
          }
        }
      ]
    },
    {
      "cell_type": "markdown",
      "source": [
        "모델 테스트"
      ],
      "metadata": {
        "id": "_aMWiXjjxeWl"
      }
    },
    {
      "cell_type": "code",
      "source": [
        "test_text_X = [row.split('\\t')[1] for row in test_txt.split('\\n')[1:] if row.count('\\t') > 0]\n",
        "test_text_X = [clean_str(sentence) for sentence in test_text_X]\n",
        "sentences = [sentence.split(' ') for sentence in test_text_X]\n",
        "sentences_new = []\n",
        "for sentence in sentences:\n",
        "  sentences_new.append([word[:5] for word in sentence][:25])\n",
        "sentences = sentences_new\n",
        "test_X = tokenizer.texts_to_sequences(sentences)\n",
        "test_X = pad_sequences(test_X, padding = 'post')\n",
        "\n",
        "model.evaluate(test_X, test_Y, verbose = 0)"
      ],
      "metadata": {
        "colab": {
          "base_uri": "https://localhost:8080/"
        },
        "id": "VW-kpDD7wVeg",
        "outputId": "2aee844d-ae17-4bb0-a32f-b0ab6fde22b0"
      },
      "execution_count": 58,
      "outputs": [
        {
          "output_type": "execute_result",
          "data": {
            "text/plain": [
              "[0.55741947889328, 0.7976800203323364]"
            ]
          },
          "metadata": {},
          "execution_count": 58
        }
      ]
    },
    {
      "cell_type": "markdown",
      "source": [
        "테스트 결과 확인"
      ],
      "metadata": {
        "id": "ebWOLGvjym1i"
      }
    },
    {
      "cell_type": "code",
      "source": [
        "test_sentence = '재미있을 줄 알았는데 완전 실망했다. 너무 졸리고 돈이 아까웠다'\n",
        "test_sentence = test_sentence.split(' ')\n",
        "test_sentences = [ ]\n",
        "now_sentence = [ ]\n",
        "for word in test_sentence:\n",
        "  now_sentence.append(word)\n",
        "  test_sentences.append(now_sentence[:])\n",
        "\n",
        "test_X_1 = tokenizer.texts_to_sequences(test_sentences)\n",
        "test_X_1 = pad_sequences(test_X_1, padding = 'post', maxlen = 25)\n",
        "prediction = model.predict(test_X_1)\n",
        "for idx, sentence in enumerate(test_sentences):\n",
        "  print(sentence)\n",
        "  print(prediction[idx])"
      ],
      "metadata": {
        "colab": {
          "base_uri": "https://localhost:8080/"
        },
        "id": "gWDGW1fTybxB",
        "outputId": "47226357-c43a-4ee9-95e1-6124d007b6f0"
      },
      "execution_count": 62,
      "outputs": [
        {
          "output_type": "stream",
          "name": "stdout",
          "text": [
            "['재미있을']\n",
            "[0.45964074 0.54035926]\n",
            "['재미있을', '줄']\n",
            "[0.32515445 0.6748455 ]\n",
            "['재미있을', '줄', '알았는데']\n",
            "[0.31226414 0.68773586]\n",
            "['재미있을', '줄', '알았는데', '완전']\n",
            "[0.33377665 0.66622335]\n",
            "['재미있을', '줄', '알았는데', '완전', '실망했다.']\n",
            "[0.33377665 0.66622335]\n",
            "['재미있을', '줄', '알았는데', '완전', '실망했다.', '너무']\n",
            "[0.41921413 0.5807858 ]\n",
            "['재미있을', '줄', '알았는데', '완전', '실망했다.', '너무', '졸리고']\n",
            "[0.9847692  0.01523074]\n",
            "['재미있을', '줄', '알았는데', '완전', '실망했다.', '너무', '졸리고', '돈이']\n",
            "[0.99765235 0.00234767]\n",
            "['재미있을', '줄', '알았는데', '완전', '실망했다.', '너무', '졸리고', '돈이', '아까웠다']\n",
            "[0.9981377  0.00186227]\n"
          ]
        }
      ]
    },
    {
      "cell_type": "code",
      "source": [
        "_"
      ],
      "metadata": {
        "id": "l2BfS4yvzLJ_"
      },
      "execution_count": null,
      "outputs": []
    }
  ]
}