{
  "nbformat": 4,
  "nbformat_minor": 0,
  "metadata": {
    "colab": {
      "name": "lecture04.ipynb",
      "provenance": [],
      "collapsed_sections": [],
      "authorship_tag": "ABX9TyOElyK4tTaRDzOwr4jx+bek",
      "include_colab_link": true
    },
    "kernelspec": {
      "name": "python3",
      "display_name": "Python 3"
    },
    "language_info": {
      "name": "python"
    }
  },
  "cells": [
    {
      "cell_type": "markdown",
      "metadata": {
        "id": "view-in-github",
        "colab_type": "text"
      },
      "source": [
        "<a href=\"https://colab.research.google.com/github/LEESOOJAE1978/sjcu/blob/main/lecture04.ipynb\" target=\"_parent\"><img src=\"https://colab.research.google.com/assets/colab-badge.svg\" alt=\"Open In Colab\"/></a>"
      ]
    },
    {
      "cell_type": "code",
      "execution_count": null,
      "metadata": {
        "id": "HSlBut7TE-ml"
      },
      "outputs": [],
      "source": [
        "import pandas as pd"
      ]
    },
    {
      "cell_type": "markdown",
      "source": [
        "1. 데이터 불러오기"
      ],
      "metadata": {
        "id": "zeu7ICEjGtKW"
      }
    },
    {
      "cell_type": "code",
      "source": [
        "red = pd.read_csv('http://archive.ics.uci.edu/ml/machine-learning-databases/wine-quality/winequality-red.csv', sep = ';')\n",
        "white = pd.read_csv('http://archive.ics.uci.edu/ml/machine-learning-databases/wine-quality/winequality-white.csv', sep=';')\n",
        "print(red.head())\n",
        "print(white.tail())"
      ],
      "metadata": {
        "colab": {
          "base_uri": "https://localhost:8080/"
        },
        "id": "ZltxkhUYFoMQ",
        "outputId": "437ea7b5-0fd1-4224-f7cc-e81102ba79e7"
      },
      "execution_count": 63,
      "outputs": [
        {
          "output_type": "stream",
          "name": "stdout",
          "text": [
            "   fixed acidity  volatile acidity  citric acid  residual sugar  chlorides  \\\n",
            "0            7.4              0.70         0.00             1.9      0.076   \n",
            "1            7.8              0.88         0.00             2.6      0.098   \n",
            "2            7.8              0.76         0.04             2.3      0.092   \n",
            "3           11.2              0.28         0.56             1.9      0.075   \n",
            "4            7.4              0.70         0.00             1.9      0.076   \n",
            "\n",
            "   free sulfur dioxide  total sulfur dioxide  density    pH  sulphates  \\\n",
            "0                 11.0                  34.0   0.9978  3.51       0.56   \n",
            "1                 25.0                  67.0   0.9968  3.20       0.68   \n",
            "2                 15.0                  54.0   0.9970  3.26       0.65   \n",
            "3                 17.0                  60.0   0.9980  3.16       0.58   \n",
            "4                 11.0                  34.0   0.9978  3.51       0.56   \n",
            "\n",
            "   alcohol  quality  \n",
            "0      9.4        5  \n",
            "1      9.8        5  \n",
            "2      9.8        5  \n",
            "3      9.8        6  \n",
            "4      9.4        5  \n",
            "      fixed acidity  volatile acidity  citric acid  residual sugar  chlorides  \\\n",
            "4893            6.2              0.21         0.29             1.6      0.039   \n",
            "4894            6.6              0.32         0.36             8.0      0.047   \n",
            "4895            6.5              0.24         0.19             1.2      0.041   \n",
            "4896            5.5              0.29         0.30             1.1      0.022   \n",
            "4897            6.0              0.21         0.38             0.8      0.020   \n",
            "\n",
            "      free sulfur dioxide  total sulfur dioxide  density    pH  sulphates  \\\n",
            "4893                 24.0                  92.0  0.99114  3.27       0.50   \n",
            "4894                 57.0                 168.0  0.99490  3.15       0.46   \n",
            "4895                 30.0                 111.0  0.99254  2.99       0.46   \n",
            "4896                 20.0                 110.0  0.98869  3.34       0.38   \n",
            "4897                 22.0                  98.0  0.98941  3.26       0.32   \n",
            "\n",
            "      alcohol  quality  \n",
            "4893     11.2        6  \n",
            "4894      9.6        5  \n",
            "4895      9.4        6  \n",
            "4896     12.8        7  \n",
            "4897     11.8        6  \n"
          ]
        }
      ]
    },
    {
      "cell_type": "markdown",
      "source": [
        "2. 타입 삽입"
      ],
      "metadata": {
        "id": "XPA2aX6PGwT9"
      }
    },
    {
      "cell_type": "code",
      "source": [
        "red['type'] = 0\n",
        "white['type'] = 1\n",
        "print(red.head(2))\n",
        "print(white.head(2))"
      ],
      "metadata": {
        "colab": {
          "base_uri": "https://localhost:8080/"
        },
        "id": "MKLiLv_-F934",
        "outputId": "53b88bbf-66de-4bfb-f49a-24fc97b8fdd8"
      },
      "execution_count": 64,
      "outputs": [
        {
          "output_type": "stream",
          "name": "stdout",
          "text": [
            "   fixed acidity  volatile acidity  citric acid  residual sugar  chlorides  \\\n",
            "0            7.4              0.70          0.0             1.9      0.076   \n",
            "1            7.8              0.88          0.0             2.6      0.098   \n",
            "\n",
            "   free sulfur dioxide  total sulfur dioxide  density    pH  sulphates  \\\n",
            "0                 11.0                  34.0   0.9978  3.51       0.56   \n",
            "1                 25.0                  67.0   0.9968  3.20       0.68   \n",
            "\n",
            "   alcohol  quality  type  \n",
            "0      9.4        5     0  \n",
            "1      9.8        5     0  \n",
            "   fixed acidity  volatile acidity  citric acid  residual sugar  chlorides  \\\n",
            "0            7.0              0.27         0.36            20.7      0.045   \n",
            "1            6.3              0.30         0.34             1.6      0.049   \n",
            "\n",
            "   free sulfur dioxide  total sulfur dioxide  density   pH  sulphates  \\\n",
            "0                 45.0                 170.0    1.001  3.0       0.45   \n",
            "1                 14.0                 132.0    0.994  3.3       0.49   \n",
            "\n",
            "   alcohol  quality  type  \n",
            "0      8.8        6     1  \n",
            "1      9.5        6     1  \n"
          ]
        }
      ]
    },
    {
      "cell_type": "markdown",
      "source": [
        "3. 데이터 셋 합치기"
      ],
      "metadata": {
        "id": "AXoCNiKcHBAk"
      }
    },
    {
      "cell_type": "code",
      "source": [
        "wine = pd.concat([red, white])\n",
        "print(wine.describe())"
      ],
      "metadata": {
        "colab": {
          "base_uri": "https://localhost:8080/"
        },
        "id": "cTlsojayHAEX",
        "outputId": "2eaba422-4b0b-4333-cec8-e22502d3693d"
      },
      "execution_count": 65,
      "outputs": [
        {
          "output_type": "stream",
          "name": "stdout",
          "text": [
            "       fixed acidity  volatile acidity  citric acid  residual sugar  \\\n",
            "count    6497.000000       6497.000000  6497.000000     6497.000000   \n",
            "mean        7.215307          0.339666     0.318633        5.443235   \n",
            "std         1.296434          0.164636     0.145318        4.757804   \n",
            "min         3.800000          0.080000     0.000000        0.600000   \n",
            "25%         6.400000          0.230000     0.250000        1.800000   \n",
            "50%         7.000000          0.290000     0.310000        3.000000   \n",
            "75%         7.700000          0.400000     0.390000        8.100000   \n",
            "max        15.900000          1.580000     1.660000       65.800000   \n",
            "\n",
            "         chlorides  free sulfur dioxide  total sulfur dioxide      density  \\\n",
            "count  6497.000000          6497.000000           6497.000000  6497.000000   \n",
            "mean      0.056034            30.525319            115.744574     0.994697   \n",
            "std       0.035034            17.749400             56.521855     0.002999   \n",
            "min       0.009000             1.000000              6.000000     0.987110   \n",
            "25%       0.038000            17.000000             77.000000     0.992340   \n",
            "50%       0.047000            29.000000            118.000000     0.994890   \n",
            "75%       0.065000            41.000000            156.000000     0.996990   \n",
            "max       0.611000           289.000000            440.000000     1.038980   \n",
            "\n",
            "                pH    sulphates      alcohol      quality         type  \n",
            "count  6497.000000  6497.000000  6497.000000  6497.000000  6497.000000  \n",
            "mean      3.218501     0.531268    10.491801     5.818378     0.753886  \n",
            "std       0.160787     0.148806     1.192712     0.873255     0.430779  \n",
            "min       2.720000     0.220000     8.000000     3.000000     0.000000  \n",
            "25%       3.110000     0.430000     9.500000     5.000000     1.000000  \n",
            "50%       3.210000     0.510000    10.300000     6.000000     1.000000  \n",
            "75%       3.320000     0.600000    11.300000     6.000000     1.000000  \n",
            "max       4.010000     2.000000    14.900000     9.000000     1.000000  \n"
          ]
        }
      ]
    },
    {
      "cell_type": "markdown",
      "source": [
        "4. 시각화"
      ],
      "metadata": {
        "id": "QuAw-5qnHwHa"
      }
    },
    {
      "cell_type": "code",
      "source": [
        "import matplotlib.pyplot as plt \n",
        "plt.hist(wine['type']) \n",
        "plt.xticks([0,1]) \n",
        "plt.show()\n",
        "\n",
        "print(wine['type'].value_counts())\n",
        "print(wine.info())"
      ],
      "metadata": {
        "colab": {
          "base_uri": "https://localhost:8080/",
          "height": 708
        },
        "id": "3h6L24FfHKKw",
        "outputId": "3a16dc92-cbe7-43ea-fcbe-fd9d635c433b"
      },
      "execution_count": 66,
      "outputs": [
        {
          "output_type": "display_data",
          "data": {
            "text/plain": [
              "<Figure size 432x288 with 1 Axes>"
            ],
            "image/png": "[encoded data removed]"
          },
          "metadata": {
            "needs_background": "light"
          }
        },
        {
          "output_type": "stream",
          "name": "stdout",
          "text": [
            "1    4898\n",
            "0    1599\n",
            "Name: type, dtype: int64\n",
            "<class 'pandas.core.frame.DataFrame'>\n",
            "Int64Index: 6497 entries, 0 to 4897\n",
            "Data columns (total 13 columns):\n",
            " #   Column                Non-Null Count  Dtype  \n",
            "---  ------                --------------  -----  \n",
            " 0   fixed acidity         6497 non-null   float64\n",
            " 1   volatile acidity      6497 non-null   float64\n",
            " 2   citric acid           6497 non-null   float64\n",
            " 3   residual sugar        6497 non-null   float64\n",
            " 4   chlorides             6497 non-null   float64\n",
            " 5   free sulfur dioxide   6497 non-null   float64\n",
            " 6   total sulfur dioxide  6497 non-null   float64\n",
            " 7   density               6497 non-null   float64\n",
            " 8   pH                    6497 non-null   float64\n",
            " 9   sulphates             6497 non-null   float64\n",
            " 10  alcohol               6497 non-null   float64\n",
            " 11  quality               6497 non-null   int64  \n",
            " 12  type                  6497 non-null   int64  \n",
            "dtypes: float64(11), int64(2)\n",
            "memory usage: 710.6 KB\n",
            "None\n"
          ]
        }
      ]
    },
    {
      "cell_type": "markdown",
      "source": [
        "5. 데이터 정규화"
      ],
      "metadata": {
        "id": "4mzNhnubIRBx"
      }
    },
    {
      "cell_type": "code",
      "source": [
        "wine_norm = (wine - wine.min()) / (wine.max() - wine.min())\n",
        "print(wine_norm.head())\n",
        "print(wine_norm.describe())"
      ],
      "metadata": {
        "colab": {
          "base_uri": "https://localhost:8080/"
        },
        "id": "0F8TV2NIHpMG",
        "outputId": "dfc09474-e1a7-49f9-e4d4-d0c9fcf2556c"
      },
      "execution_count": 67,
      "outputs": [
        {
          "output_type": "stream",
          "name": "stdout",
          "text": [
            "   fixed acidity  volatile acidity  citric acid  residual sugar  chlorides  \\\n",
            "0       0.297521          0.413333     0.000000        0.019939   0.111296   \n",
            "1       0.330579          0.533333     0.000000        0.030675   0.147841   \n",
            "2       0.330579          0.453333     0.024096        0.026074   0.137874   \n",
            "3       0.611570          0.133333     0.337349        0.019939   0.109635   \n",
            "4       0.297521          0.413333     0.000000        0.019939   0.111296   \n",
            "\n",
            "   free sulfur dioxide  total sulfur dioxide   density        pH  sulphates  \\\n",
            "0             0.034722              0.064516  0.206092  0.612403   0.191011   \n",
            "1             0.083333              0.140553  0.186813  0.372093   0.258427   \n",
            "2             0.048611              0.110599  0.190669  0.418605   0.241573   \n",
            "3             0.055556              0.124424  0.209948  0.341085   0.202247   \n",
            "4             0.034722              0.064516  0.206092  0.612403   0.191011   \n",
            "\n",
            "    alcohol   quality  type  \n",
            "0  0.202899  0.333333   0.0  \n",
            "1  0.260870  0.333333   0.0  \n",
            "2  0.260870  0.333333   0.0  \n",
            "3  0.260870  0.500000   0.0  \n",
            "4  0.202899  0.333333   0.0  \n",
            "       fixed acidity  volatile acidity  citric acid  residual sugar  \\\n",
            "count    6497.000000       6497.000000  6497.000000     6497.000000   \n",
            "mean        0.282257          0.173111     0.191948        0.074283   \n",
            "std         0.107143          0.109758     0.087541        0.072972   \n",
            "min         0.000000          0.000000     0.000000        0.000000   \n",
            "25%         0.214876          0.100000     0.150602        0.018405   \n",
            "50%         0.264463          0.140000     0.186747        0.036810   \n",
            "75%         0.322314          0.213333     0.234940        0.115031   \n",
            "max         1.000000          1.000000     1.000000        1.000000   \n",
            "\n",
            "         chlorides  free sulfur dioxide  total sulfur dioxide      density  \\\n",
            "count  6497.000000          6497.000000           6497.000000  6497.000000   \n",
            "mean      0.078129             0.102518              0.252868     0.146262   \n",
            "std       0.058195             0.061630              0.130235     0.057811   \n",
            "min       0.000000             0.000000              0.000000     0.000000   \n",
            "25%       0.048173             0.055556              0.163594     0.100829   \n",
            "50%       0.063123             0.097222              0.258065     0.149990   \n",
            "75%       0.093023             0.138889              0.345622     0.190476   \n",
            "max       1.000000             1.000000              1.000000     1.000000   \n",
            "\n",
            "                pH    sulphates      alcohol      quality         type  \n",
            "count  6497.000000  6497.000000  6497.000000  6497.000000  6497.000000  \n",
            "mean      0.386435     0.174870     0.361131     0.469730     0.753886  \n",
            "std       0.124641     0.083599     0.172857     0.145543     0.430779  \n",
            "min       0.000000     0.000000     0.000000     0.000000     0.000000  \n",
            "25%       0.302326     0.117978     0.217391     0.333333     1.000000  \n",
            "50%       0.379845     0.162921     0.333333     0.500000     1.000000  \n",
            "75%       0.465116     0.213483     0.478261     0.500000     1.000000  \n",
            "max       1.000000     1.000000     1.000000     1.000000     1.000000  \n"
          ]
        }
      ]
    },
    {
      "cell_type": "markdown",
      "source": [
        "6. 데이터 넘파이 변환"
      ],
      "metadata": {
        "id": "vu8q6UCdJT2U"
      }
    },
    {
      "cell_type": "code",
      "source": [
        "import numpy as np"
      ],
      "metadata": {
        "id": "mqoDHn24IemJ"
      },
      "execution_count": null,
      "outputs": []
    },
    {
      "cell_type": "code",
      "source": [
        "wine_shuffle = wine_norm.sample(frac = 1)\n",
        "print(wine_shuffle.head())\n",
        "wine_np = wine_shuffle.to_numpy()\n",
        "print(wine_np[:5])"
      ],
      "metadata": {
        "colab": {
          "base_uri": "https://localhost:8080/"
        },
        "id": "iWhbfnTsJW_A",
        "outputId": "d09ab998-fcb0-46bc-8da1-944bf98f5a7d"
      },
      "execution_count": 72,
      "outputs": [
        {
          "output_type": "stream",
          "name": "stdout",
          "text": [
            "      fixed acidity  volatile acidity  citric acid  residual sugar  chlorides  \\\n",
            "1997       0.380165          0.080000     0.228916        0.171779   0.076412   \n",
            "4757       0.181818          0.200000     0.156627        0.044479   0.043189   \n",
            "2063       0.314050          0.066667     0.216867        0.027607   0.066445   \n",
            "1702       0.223140          0.126667     0.114458        0.055215   0.061462   \n",
            "1082       0.280992          0.200000     0.180723        0.018405   0.106312   \n",
            "\n",
            "      free sulfur dioxide  total sulfur dioxide   density        pH  \\\n",
            "1997             0.173611              0.377880  0.256217  0.480620   \n",
            "4757             0.128472              0.241935  0.031039  0.356589   \n",
            "2063             0.128472              0.269585  0.171390  0.682171   \n",
            "1702             0.017361              0.248848  0.161751  0.410853   \n",
            "1082             0.104167              0.147465  0.187777  0.542636   \n",
            "\n",
            "      sulphates   alcohol   quality  type  \n",
            "1997   0.337079  0.130435  0.500000   1.0  \n",
            "4757   0.140449  0.811594  0.666667   1.0  \n",
            "2063   0.134831  0.333333  0.333333   1.0  \n",
            "1702   0.073034  0.086957  0.166667   1.0  \n",
            "1082   0.207865  0.217391  0.500000   0.0  \n",
            "[[0.38016529 0.08       0.22891566 0.17177914 0.07641196 0.17361111\n",
            "  0.37788018 0.25621747 0.48062016 0.33707865 0.13043478 0.5\n",
            "  1.        ]\n",
            " [0.18181818 0.2        0.15662651 0.04447853 0.04318937 0.12847222\n",
            "  0.24193548 0.03103914 0.35658915 0.14044944 0.8115942  0.66666667\n",
            "  1.        ]\n",
            " [0.31404959 0.06666667 0.21686747 0.02760736 0.06644518 0.12847222\n",
            "  0.26958525 0.17139001 0.68217054 0.13483146 0.33333333 0.33333333\n",
            "  1.        ]\n",
            " [0.2231405  0.12666667 0.11445783 0.05521472 0.06146179 0.01736111\n",
            "  0.24884793 0.16175053 0.41085271 0.07303371 0.08695652 0.16666667\n",
            "  1.        ]\n",
            " [0.28099174 0.2        0.18072289 0.01840491 0.10631229 0.10416667\n",
            "  0.14746544 0.18777714 0.54263566 0.20786517 0.2173913  0.5\n",
            "  0.        ]]\n"
          ]
        }
      ]
    },
    {
      "cell_type": "markdown",
      "source": [
        "7. 훈련데이터와 테스트 데이터 생성"
      ],
      "metadata": {
        "id": "3Nj4vuX9JwSj"
      }
    },
    {
      "cell_type": "code",
      "source": [
        "import tensorflow as tf\n",
        "train_idx = int(len(wine_norm) * 0.8)\n",
        "train_X, train_Y = wine_np[:train_idx, :-1], wine_np[:train_idx, -1]\n",
        "test_X, test_Y = wine_np[train_idx:, :-1], wine_np[train_idx:, -1]\n",
        "print(train_X[0])\n",
        "print(train_Y[0])\n",
        "print(test_X[0])\n",
        "print(test_Y[0])\n",
        "train_Y = tf.keras.utils.to_categorical(train_Y, num_classes = 2)\n",
        "test_Y = tf.keras.utils.to_categorical(test_Y, num_classes = 2)\n",
        "print(train_Y[0])\n",
        "print(test_Y[0])"
      ],
      "metadata": {
        "id": "vMk_nscvJij5",
        "colab": {
          "base_uri": "https://localhost:8080/"
        },
        "outputId": "d1df1117-af0d-4c30-e67b-c28430c07796"
      },
      "execution_count": 77,
      "outputs": [
        {
          "output_type": "stream",
          "name": "stdout",
          "text": [
            "[0.38016529 0.08       0.22891566 0.17177914 0.07641196 0.17361111\n",
            " 0.37788018 0.25621747 0.48062016 0.33707865 0.13043478 0.5       ]\n",
            "1.0\n",
            "[0.2892562  0.09333333 0.24698795 0.22699387 0.06810631 0.1875\n",
            " 0.42626728 0.24850588 0.46511628 0.20786517 0.13043478 0.5       ]\n",
            "1.0\n",
            "[0. 1.]\n",
            "[0. 1.]\n"
          ]
        }
      ]
    },
    {
      "cell_type": "markdown",
      "source": [
        "8. 모델 생성"
      ],
      "metadata": {
        "id": "05ra4ecVLZv0"
      }
    },
    {
      "cell_type": "code",
      "source": [
        "model = tf.keras.Sequential([\n",
        "                             tf.keras.layers.Dense(units = 48, activation = 'relu', input_shape = (12,)),\n",
        "                             tf.keras.layers.Dense(units = 24, activation = 'relu'),\n",
        "                             tf.keras.layers.Dense(units = 12, activation = 'relu'),\n",
        "                             tf.keras.layers.Dense(units = 2, activation='sigmoid')\n",
        "])\n",
        "\n",
        "model.compile(optimizer = tf.keras.optimizers.Adam(learning_rate=0.07),\n",
        "              loss = 'categorical_crossentropy', metrics = ['accuracy'])\n",
        "\n",
        "model.summary()"
      ],
      "metadata": {
        "colab": {
          "base_uri": "https://localhost:8080/"
        },
        "id": "kux3w-O_KyT6",
        "outputId": "2164cdcf-46a7-424b-f916-21e3f1d81ad5"
      },
      "execution_count": 75,
      "outputs": [
        {
          "output_type": "stream",
          "name": "stdout",
          "text": [
            "Model: \"sequential_7\"\n",
            "_________________________________________________________________\n",
            " Layer (type)                Output Shape              Param #   \n",
            "=================================================================\n",
            " dense_28 (Dense)            (None, 48)                624       \n",
            "                                                                 \n",
            " dense_29 (Dense)            (None, 24)                1176      \n",
            "                                                                 \n",
            " dense_30 (Dense)            (None, 12)                300       \n",
            "                                                                 \n",
            " dense_31 (Dense)            (None, 2)                 26        \n",
            "                                                                 \n",
            "=================================================================\n",
            "Total params: 2,126\n",
            "Trainable params: 2,126\n",
            "Non-trainable params: 0\n",
            "_________________________________________________________________\n"
          ]
        }
      ]
    },
    {
      "cell_type": "code",
      "source": [
        "history = model.fit(train_X, train_Y, epochs = 25, batch_size = 1000, validation_split= 0.25)"
      ],
      "metadata": {
        "colab": {
          "base_uri": "https://localhost:8080/"
        },
        "id": "THOUghVhMVUq",
        "outputId": "3057740b-6c0e-49b6-c20e-4340310f2b86"
      },
      "execution_count": 76,
      "outputs": [
        {
          "output_type": "stream",
          "name": "stdout",
          "text": [
            "Epoch 1/25\n",
            "4/4 [==============================] - 1s 60ms/step - loss: 0.6248 - accuracy: 0.6171 - val_loss: 0.4691 - val_accuracy: 0.7308\n",
            "Epoch 2/25\n",
            "4/4 [==============================] - 0s 11ms/step - loss: 0.3384 - accuracy: 0.8689 - val_loss: 0.1597 - val_accuracy: 0.9646\n",
            "Epoch 3/25\n",
            "4/4 [==============================] - 0s 10ms/step - loss: 0.1223 - accuracy: 0.9715 - val_loss: 0.0570 - val_accuracy: 0.9792\n",
            "Epoch 4/25\n",
            "4/4 [==============================] - 0s 13ms/step - loss: 0.0833 - accuracy: 0.9766 - val_loss: 0.0543 - val_accuracy: 0.9823\n",
            "Epoch 5/25\n",
            "4/4 [==============================] - 0s 11ms/step - loss: 0.0842 - accuracy: 0.9810 - val_loss: 0.0429 - val_accuracy: 0.9854\n",
            "Epoch 6/25\n",
            "4/4 [==============================] - 0s 11ms/step - loss: 0.0700 - accuracy: 0.9849 - val_loss: 0.0381 - val_accuracy: 0.9854\n",
            "Epoch 7/25\n",
            "4/4 [==============================] - 0s 14ms/step - loss: 0.0582 - accuracy: 0.9864 - val_loss: 0.0360 - val_accuracy: 0.9854\n",
            "Epoch 8/25\n",
            "4/4 [==============================] - 0s 11ms/step - loss: 0.0491 - accuracy: 0.9864 - val_loss: 0.0280 - val_accuracy: 0.9900\n",
            "Epoch 9/25\n",
            "4/4 [==============================] - 0s 11ms/step - loss: 0.0435 - accuracy: 0.9900 - val_loss: 0.0301 - val_accuracy: 0.9892\n",
            "Epoch 10/25\n",
            "4/4 [==============================] - 0s 13ms/step - loss: 0.0449 - accuracy: 0.9887 - val_loss: 0.0344 - val_accuracy: 0.9923\n",
            "Epoch 11/25\n",
            "4/4 [==============================] - 0s 12ms/step - loss: 0.0419 - accuracy: 0.9905 - val_loss: 0.0312 - val_accuracy: 0.9915\n",
            "Epoch 12/25\n",
            "4/4 [==============================] - 0s 11ms/step - loss: 0.0391 - accuracy: 0.9902 - val_loss: 0.0283 - val_accuracy: 0.9908\n",
            "Epoch 13/25\n",
            "4/4 [==============================] - 0s 14ms/step - loss: 0.0383 - accuracy: 0.9920 - val_loss: 0.0284 - val_accuracy: 0.9931\n",
            "Epoch 14/25\n",
            "4/4 [==============================] - 0s 12ms/step - loss: 0.0378 - accuracy: 0.9910 - val_loss: 0.0409 - val_accuracy: 0.9892\n",
            "Epoch 15/25\n",
            "4/4 [==============================] - 0s 11ms/step - loss: 0.0386 - accuracy: 0.9905 - val_loss: 0.0301 - val_accuracy: 0.9923\n",
            "Epoch 16/25\n",
            "4/4 [==============================] - 0s 11ms/step - loss: 0.0353 - accuracy: 0.9915 - val_loss: 0.0288 - val_accuracy: 0.9915\n",
            "Epoch 17/25\n",
            "4/4 [==============================] - 0s 11ms/step - loss: 0.0351 - accuracy: 0.9920 - val_loss: 0.0289 - val_accuracy: 0.9885\n",
            "Epoch 18/25\n",
            "4/4 [==============================] - 0s 12ms/step - loss: 0.0341 - accuracy: 0.9915 - val_loss: 0.0335 - val_accuracy: 0.9923\n",
            "Epoch 19/25\n",
            "4/4 [==============================] - 0s 12ms/step - loss: 0.0368 - accuracy: 0.9908 - val_loss: 0.0320 - val_accuracy: 0.9931\n",
            "Epoch 20/25\n",
            "4/4 [==============================] - 0s 13ms/step - loss: 0.0332 - accuracy: 0.9920 - val_loss: 0.0386 - val_accuracy: 0.9923\n",
            "Epoch 21/25\n",
            "4/4 [==============================] - 0s 12ms/step - loss: 0.0332 - accuracy: 0.9928 - val_loss: 0.0294 - val_accuracy: 0.9885\n",
            "Epoch 22/25\n",
            "4/4 [==============================] - 0s 11ms/step - loss: 0.0330 - accuracy: 0.9931 - val_loss: 0.0297 - val_accuracy: 0.9885\n",
            "Epoch 23/25\n",
            "4/4 [==============================] - 0s 11ms/step - loss: 0.0320 - accuracy: 0.9923 - val_loss: 0.0321 - val_accuracy: 0.9931\n",
            "Epoch 24/25\n",
            "4/4 [==============================] - 0s 11ms/step - loss: 0.0312 - accuracy: 0.9915 - val_loss: 0.0348 - val_accuracy: 0.9931\n",
            "Epoch 25/25\n",
            "4/4 [==============================] - 0s 11ms/step - loss: 0.0353 - accuracy: 0.9923 - val_loss: 0.0315 - val_accuracy: 0.9877\n"
          ]
        }
      ]
    },
    {
      "cell_type": "code",
      "source": [
        ""
      ],
      "metadata": {
        "id": "dpw4EE0iORCq"
      },
      "execution_count": null,
      "outputs": []
    }
  ]
}