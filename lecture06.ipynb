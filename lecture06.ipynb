{
  "nbformat": 4,
  "nbformat_minor": 0,
  "metadata": {
    "colab": {
      "name": "lecture06.ipynb",
      "provenance": [],
      "authorship_tag": "ABX9TyMovTRx6eLDd1kI8SpK6Czq",
      "include_colab_link": true
    },
    "kernelspec": {
      "name": "python3",
      "display_name": "Python 3"
    },
    "language_info": {
      "name": "python"
    }
  },
  "cells": [
    {
      "cell_type": "markdown",
      "metadata": {
        "id": "view-in-github",
        "colab_type": "text"
      },
      "source": [
        "<a href=\"https://colab.research.google.com/github/LEESOOJAE1978/sjcu/blob/main/lecture06.ipynb\" target=\"_parent\"><img src=\"https://colab.research.google.com/assets/colab-badge.svg\" alt=\"Open In Colab\"/></a>"
      ]
    },
    {
      "cell_type": "code",
      "source": [
        "from google.colab import drive\n",
        "drive.mount('/content/drive')"
      ],
      "metadata": {
        "colab": {
          "base_uri": "https://localhost:8080/"
        },
        "id": "8zfsMj9MCfuu",
        "outputId": "def6488f-a32b-4576-b88b-a854764f4ac5"
      },
      "execution_count": 2,
      "outputs": [
        {
          "output_type": "stream",
          "name": "stdout",
          "text": [
            "Mounted at /content/drive\n"
          ]
        }
      ]
    },
    {
      "cell_type": "code",
      "source": [
        "%cd /content/drive/My Drive/sjcu"
      ],
      "metadata": {
        "colab": {
          "base_uri": "https://localhost:8080/"
        },
        "id": "zhvSZqv-DCIh",
        "outputId": "f63439b2-5f6c-44bf-c054-9dea4f053350"
      },
      "execution_count": 3,
      "outputs": [
        {
          "output_type": "stream",
          "name": "stdout",
          "text": [
            "/content/drive/My Drive/sjcu\n"
          ]
        }
      ]
    },
    {
      "cell_type": "code",
      "execution_count": 4,
      "metadata": {
        "id": "2rnitE5j3P6X"
      },
      "outputs": [],
      "source": [
        "import matplotlib.pyplot as plt\n",
        "import seaborn as sns\n",
        "import numpy as np"
      ]
    },
    {
      "cell_type": "markdown",
      "source": [
        "1. 구조"
      ],
      "metadata": {
        "id": "AojfcaYEHTlO"
      }
    },
    {
      "cell_type": "code",
      "source": [
        "fig, ax = plt.subplots()"
      ],
      "metadata": {
        "colab": {
          "base_uri": "https://localhost:8080/",
          "height": 269
        },
        "id": "umm5v4sDHRVr",
        "outputId": "3692acbb-d6db-461c-81d8-13b13008c3a1"
      },
      "execution_count": 5,
      "outputs": [
        {
          "output_type": "display_data",
          "data": {
            "text/plain": [
              "<Figure size 432x288 with 1 Axes>"
            ],
            "image/png": "[encoded data removed]"
          },
          "metadata": {
            "needs_background": "light"
          }
        }
      ]
    },
    {
      "cell_type": "code",
      "source": [
        "fig, ax = plt.subplots(2,2, figsize = (8,8))\n",
        "\n"
      ],
      "metadata": {
        "colab": {
          "base_uri": "https://localhost:8080/",
          "height": 487
        },
        "id": "cwKRQO5cIf96",
        "outputId": "c6067b7a-b3d4-4afb-cd4d-7d51486002ca"
      },
      "execution_count": 6,
      "outputs": [
        {
          "output_type": "display_data",
          "data": {
            "text/plain": [
              "<Figure size 576x576 with 4 Axes>"
            ],
            "image/png": "[encoded data removed]"
          },
          "metadata": {
            "needs_background": "light"
          }
        }
      ]
    },
    {
      "cell_type": "code",
      "source": [
        "N = 5\n",
        "menMeans = (20, 35, 30, 35, -27)\n",
        "womenMeans = (25, 32, 34, 20, -25)\n",
        "menStd = (2, 3, 4, 1, 2)\n",
        "womenStd = (3, 5, 2, 3, 3)\n",
        "ind = np.arange(N)\n",
        "width = 0.35"
      ],
      "metadata": {
        "id": "5zag2GPV31h9"
      },
      "execution_count": 25,
      "outputs": []
    },
    {
      "cell_type": "code",
      "source": [
        "fig, ax = plt.subplots()\n",
        "\n",
        "p1 = ax.bar(ind, menMeans, width, label='Men')\n",
        "p2 = ax.bar(ind, womenMeans,width,\n",
        "           bottom=menMeans, label='Women')\n",
        "\n",
        "ax.axhline(0, color='grey', linewidth=0.8)\n",
        "ax.set_ylabel('Scores')\n",
        "ax.set_title('Scores by group and gender')\n",
        "ax.set_xticklabels(labels=['G0','G1','G2', 'G3', 'G4', 'G5'])\n",
        "ax.legend()\n",
        "\n",
        "plt.show()\n",
        "#plt.savefig('/content/drive/My Drive/sjcu/vertical')"
      ],
      "metadata": {
        "colab": {
          "base_uri": "https://localhost:8080/",
          "height": 281
        },
        "id": "_k-LdHmq4QRL",
        "outputId": "1e4f946b-4533-4339-ab7d-96d5ab154049"
      },
      "execution_count": 34,
      "outputs": [
        {
          "output_type": "display_data",
          "data": {
            "text/plain": [
              "<Figure size 432x288 with 1 Axes>"
            ],
            "image/png": "[encoded data removed]"
          },
          "metadata": {
            "needs_background": "light"
          }
        }
      ]
    },
    {
      "cell_type": "markdown",
      "source": [
        "Grouped Bar plot"
      ],
      "metadata": {
        "id": "sdukNoSoTM-G"
      }
    },
    {
      "cell_type": "code",
      "source": [
        "fig, ax = plt.subplots(figsize = (7,7))\n",
        "rects1 = ax.bar(ind - width/2, menMeans, width, label='Men')\n",
        "rects2 = ax.bar(ind + width/2, womenMeans,width, label='Women')\n",
        "\n",
        "ax.set_ylabel('Scores')\n",
        "ax.set_title('Scores by group and gender')\n",
        "ax.set_xticklabels(labels=['G0','G1','G2', 'G3', 'G4', 'G5'])\n",
        "ax.legend()\n",
        "plt.show()\n"
      ],
      "metadata": {
        "colab": {
          "base_uri": "https://localhost:8080/",
          "height": 444
        },
        "id": "oF4qPs4lEPvx",
        "outputId": "2ab4263d-3e47-48e4-906a-1e05bb9f57e9"
      },
      "execution_count": 35,
      "outputs": [
        {
          "output_type": "display_data",
          "data": {
            "text/plain": [
              "<Figure size 504x504 with 1 Axes>"
            ],
            "image/png": "[encoded data removed]"
          },
          "metadata": {
            "needs_background": "light"
          }
        }
      ]
    },
    {
      "cell_type": "markdown",
      "source": [
        " Horizontal bar chart"
      ],
      "metadata": {
        "id": "muovcRvG45jF"
      }
    },
    {
      "cell_type": "code",
      "source": [
        "np.random.seed(19680801)\n",
        "\n",
        "people = ('Tom', 'Dick', 'Harry', 'Slim', 'Jim')\n",
        "y_pos = np.arange(len(people))\n",
        "performance = 3 + 10 * np.random.rand(len(people))\n",
        "\n",
        "fig, ax = plt.subplots()\n",
        "\n",
        "hbars = ax.barh(y_pos, performance, align = 'center')\n",
        "ax.set_yticklabels(labels = ['0', 'Tom', 'Dick', 'Harry', 'Slim', 'Jim'])\n",
        "ax.invert_yaxis()\n",
        "ax.set_xlabel('performance')\n",
        "ax.set_title('how fast do you want to go today?')\n",
        "#ax.legend()\n",
        "plt.show()\n",
        "#plt.savefig('/content/drive/My Drive/sjcu/horizon.png')"
      ],
      "metadata": {
        "colab": {
          "base_uri": "https://localhost:8080/",
          "height": 312
        },
        "id": "K1KK0kRf483h",
        "outputId": "b3a997b1-2c5c-4c2e-9039-4dbdabbd91b9"
      },
      "execution_count": 58,
      "outputs": [
        {
          "output_type": "display_data",
          "data": {
            "text/plain": [
              "<Figure size 432x288 with 1 Axes>"
            ],
            "image/png": "[encoded data removed]"
          },
          "metadata": {
            "needs_background": "light"
          }
        },
        {
          "output_type": "display_data",
          "data": {
            "text/plain": [
              "<Figure size 432x288 with 0 Axes>"
            ]
          },
          "metadata": {}
        }
      ]
    },
    {
      "cell_type": "markdown",
      "source": [
        "Categorical Variables"
      ],
      "metadata": {
        "id": "Xi6AHR0LWgEK"
      }
    },
    {
      "cell_type": "code",
      "source": [
        "data = {'apple' : 10, 'orange': 15, 'lemon': 5, 'lime': 20}\n",
        "names = list(data.keys())\n",
        "values = list(data.values())\n",
        "\n",
        "fig,axs = plt.subplots(1,3, figsize = (9,3), sharey =True)\n",
        "axs[0].bar(names, values)\n",
        "axs[1].scatter(names, values)\n",
        "axs[2].plot(names, values)\n",
        "fig.suptitle('Categorical Plotting')\n",
        "plt.show()\n",
        "plt.savefig('/content/drive/My Drive/sjcu/Categorical.png')"
      ],
      "metadata": {
        "colab": {
          "base_uri": "https://localhost:8080/",
          "height": 250
        },
        "id": "20ZNoBmB4xfc",
        "outputId": "1dc7cc97-fff8-4116-9615-03f6399ff16c"
      },
      "execution_count": 39,
      "outputs": [
        {
          "output_type": "display_data",
          "data": {
            "text/plain": [
              "<Figure size 648x216 with 3 Axes>"
            ],
            "image/png": "[encoded data removed]"
          },
          "metadata": {
            "needs_background": "light"
          }
        },
        {
          "output_type": "display_data",
          "data": {
            "text/plain": [
              "<Figure size 432x288 with 0 Axes>"
            ]
          },
          "metadata": {}
        }
      ]
    },
    {
      "cell_type": "markdown",
      "source": [
        "Seaborn"
      ],
      "metadata": {
        "id": "OTru0GD7clpP"
      }
    },
    {
      "cell_type": "code",
      "source": [
        "import numpy as np\n",
        "import seaborn as sns\n",
        "import matplotlib.pyplot as plt\n",
        "sns.set_theme(style=\"white\", context=\"talk\")\n",
        "rs = np.random.RandomState(8)"
      ],
      "metadata": {
        "id": "5FLxiUGsQWh9"
      },
      "execution_count": 40,
      "outputs": []
    },
    {
      "cell_type": "code",
      "source": [
        "# Set up the matplotlib figure\n",
        "f, (ax1, ax2, ax3) = plt.subplots(3, 1, figsize=(7, 5), sharex=True)\n"
      ],
      "metadata": {
        "colab": {
          "base_uri": "https://localhost:8080/",
          "height": 340
        },
        "id": "7hWWv2Nt4zPi",
        "outputId": "ab2b4a55-ecdc-466b-ad34-18b72869efb9"
      },
      "execution_count": 41,
      "outputs": [
        {
          "output_type": "display_data",
          "data": {
            "text/plain": [
              "<Figure size 504x360 with 3 Axes>"
            ],
            "image/png": "[encoded data removed]"
          },
          "metadata": {}
        }
      ]
    },
    {
      "cell_type": "code",
      "source": [
        "# Generate some sequential data\n",
        "x = np.array(list(\"ABCDEFGHIJ\"))\n",
        "y1 = np.arange(1, 11)\n",
        "sns.barplot(x=x, y=y1, palette=\"rocket\", ax=ax1)\n",
        "ax1.axhline(0, color=\"k\", clip_on=False)\n",
        "ax1.set_ylabel(\"Sequential\")"
      ],
      "metadata": {
        "colab": {
          "base_uri": "https://localhost:8080/"
        },
        "id": "hX4eyu5NAHSQ",
        "outputId": "1615cd77-c650-4b10-8310-bea83f7e0059"
      },
      "execution_count": 42,
      "outputs": [
        {
          "output_type": "execute_result",
          "data": {
            "text/plain": [
              "Text(3.200000000000003, 0.5, 'Sequential')"
            ]
          },
          "metadata": {},
          "execution_count": 42
        }
      ]
    },
    {
      "cell_type": "code",
      "source": [
        "# Center the data to make it diverging\n",
        "y2 = y1 - 5.5\n",
        "sns.barplot(x=x, y=y2, palette=\"vlag\", ax=ax2)\n",
        "ax2.axhline(0, color=\"k\", clip_on=False)\n",
        "ax2.set_ylabel(\"Diverging\")"
      ],
      "metadata": {
        "colab": {
          "base_uri": "https://localhost:8080/"
        },
        "id": "jHFRo8Oh45Rq",
        "outputId": "fa838cce-a88f-4e18-8592-37e020589cc0"
      },
      "execution_count": 43,
      "outputs": [
        {
          "output_type": "execute_result",
          "data": {
            "text/plain": [
              "Text(3.200000000000003, 0.5, 'Diverging')"
            ]
          },
          "metadata": {},
          "execution_count": 43
        }
      ]
    },
    {
      "cell_type": "code",
      "source": [
        "# Randomly reorder the data to make it qualitative\n",
        "y3 = rs.choice(y1, len(y1), replace=False)\n",
        "sns.barplot(x=x, y=y3, palette=\"deep\", ax=ax3)\n",
        "ax3.axhline(0, color=\"k\", clip_on=False)\n",
        "ax3.set_ylabel(\"Qualitative\")"
      ],
      "metadata": {
        "id": "S8oBTvKn5Utb",
        "colab": {
          "base_uri": "https://localhost:8080/"
        },
        "outputId": "30224949-4d58-4386-d800-5abf59603850"
      },
      "execution_count": 44,
      "outputs": [
        {
          "output_type": "execute_result",
          "data": {
            "text/plain": [
              "Text(3.200000000000003, 0.5, 'Qualitative')"
            ]
          },
          "metadata": {},
          "execution_count": 44
        }
      ]
    },
    {
      "cell_type": "code",
      "source": [
        "# Finalize the plot\n",
        "sns.despine(bottom=True)\n",
        "plt.setp(f.axes, yticks=[])\n",
        "plt.tight_layout(h_pad=2)"
      ],
      "metadata": {
        "colab": {
          "base_uri": "https://localhost:8080/",
          "height": 34
        },
        "id": "6FbMcM-xc02B",
        "outputId": "abf1a39e-a626-4250-835a-cb48d929bfa2"
      },
      "execution_count": 45,
      "outputs": [
        {
          "output_type": "display_data",
          "data": {
            "text/plain": [
              "<Figure size 432x288 with 0 Axes>"
            ]
          },
          "metadata": {}
        }
      ]
    },
    {
      "cell_type": "code",
      "source": [
        "import numpy as np\n",
        "import seaborn as sns\n",
        "import matplotlib.pyplot as plt\n",
        "sns.set_theme(style=\"white\", context=\"talk\")\n",
        "rs = np.random.RandomState(8)\n",
        "\n",
        "# Set up the matplotlib figure\n",
        "f, (ax1, ax2, ax3) = plt.subplots(3, 1, figsize=(7, 5), sharex=True)\n",
        "\n",
        "# Generate some sequential data\n",
        "x = np.array(list(\"ABCDEFGHIJ\"))\n",
        "y1 = np.arange(1, 11)\n",
        "sns.barplot(x=x, y=y1, palette=\"rocket\", ax=ax1)\n",
        "ax1.axhline(0, color=\"k\", clip_on=False)\n",
        "ax1.set_ylabel(\"Sequential\")\n",
        "\n",
        "# Center the data to make it diverging\n",
        "y2 = y1 - 5.5\n",
        "sns.barplot(x=x, y=y2, palette=\"vlag\", ax=ax2)\n",
        "ax2.axhline(0, color=\"k\", clip_on=False)\n",
        "ax2.set_ylabel(\"Diverging\")\n",
        "\n",
        "# Randomly reorder the data to make it qualitative\n",
        "y3 = rs.choice(y1, len(y1), replace=False)\n",
        "sns.barplot(x=x, y=y3, palette=\"deep\", ax=ax3)\n",
        "ax3.axhline(0, color=\"k\", clip_on=False)\n",
        "ax3.set_ylabel(\"Qualitative\")\n",
        "\n",
        "# Finalize the plot\n",
        "sns.despine(bottom=True)\n",
        "plt.setp(f.axes, yticks=[])\n",
        "plt.tight_layout(h_pad=2)"
      ],
      "metadata": {
        "colab": {
          "base_uri": "https://localhost:8080/",
          "height": 361
        },
        "id": "EfdVJ91Bc2kJ",
        "outputId": "acf778da-a70e-4808-fa0c-ebd54babd2cf"
      },
      "execution_count": 46,
      "outputs": [
        {
          "output_type": "display_data",
          "data": {
            "text/plain": [
              "<Figure size 504x360 with 3 Axes>"
            ],
            "image/png": "[encoded data removed]"
          },
          "metadata": {}
        }
      ]
    },
    {
      "cell_type": "code",
      "source": [
        "# Set up the matplotlib figure\n",
        "f, ax1 = plt.subplots(figsize=(7, 5))\n",
        "\n",
        "# Generate some sequential data\n",
        "x = np.array(list(\"ABCDEFGHIJ\"))\n",
        "y1 = np.arange(1, 11)\n",
        "sns.barplot(x=x, y=y1, palette=\"rocket\", ax=ax1)\n",
        "ax1.axhline(0, color=\"k\", clip_on=False)\n",
        "ax1.set_ylabel(\"Sequential\")\n",
        "\n"
      ],
      "metadata": {
        "colab": {
          "base_uri": "https://localhost:8080/",
          "height": 350
        },
        "id": "V71qHrSXc6VJ",
        "outputId": "eba6f19a-2dfc-481f-dba7-73f57e6f564b"
      },
      "execution_count": 57,
      "outputs": [
        {
          "output_type": "execute_result",
          "data": {
            "text/plain": [
              "Text(0, 0.5, 'Sequential')"
            ]
          },
          "metadata": {},
          "execution_count": 57
        },
        {
          "output_type": "display_data",
          "data": {
            "text/plain": [
              "<Figure size 504x360 with 1 Axes>"
            ],
            "image/png": "[encoded data removed]"
          },
          "metadata": {}
        }
      ]
    },
    {
      "cell_type": "code",
      "source": [
        "# Set up the matplotlib figure\n",
        "f, ax2 = plt.subplots(figsize=(7, 5))\n",
        "\n",
        "# Center the data to make it diverging\n",
        "y2 = y1 - 5.5\n",
        "sns.barplot(x=x, y=y2, palette=\"vlag\", ax=ax2)\n",
        "ax2.axhline(0, color=\"k\", clip_on=False)\n",
        "ax2.set_ylabel(\"Diverging\")"
      ],
      "metadata": {
        "colab": {
          "base_uri": "https://localhost:8080/",
          "height": 350
        },
        "id": "_VvFzbKBdx5p",
        "outputId": "ea22c327-d7ed-4bbf-d9ed-cb3fa074f0bc"
      },
      "execution_count": 58,
      "outputs": [
        {
          "output_type": "execute_result",
          "data": {
            "text/plain": [
              "Text(0, 0.5, 'Diverging')"
            ]
          },
          "metadata": {},
          "execution_count": 58
        },
        {
          "output_type": "display_data",
          "data": {
            "text/plain": [
              "<Figure size 504x360 with 1 Axes>"
            ],
            "image/png": "[encoded data removed]"
          },
          "metadata": {}
        }
      ]
    },
    {
      "cell_type": "code",
      "source": [
        "# Set up the matplotlib figure\n",
        "f, ax3 = plt.subplots(figsize=(7, 5))\n",
        "\n",
        "# Randomly reorder the data to make it qualitative\n",
        "y3 = rs.choice(y1, len(y1), replace=False)\n",
        "sns.barplot(x=x, y=y3, palette=\"deep\", ax=ax3)\n",
        "ax3.axhline(0, color=\"k\", clip_on=False)\n",
        "ax3.set_ylabel(\"Qualitative\")"
      ],
      "metadata": {
        "colab": {
          "base_uri": "https://localhost:8080/",
          "height": 350
        },
        "id": "S5cfzxRweQcB",
        "outputId": "bd916f2d-c245-4a76-e511-7b3f07ed9c34"
      },
      "execution_count": 59,
      "outputs": [
        {
          "output_type": "execute_result",
          "data": {
            "text/plain": [
              "Text(0, 0.5, 'Qualitative')"
            ]
          },
          "metadata": {},
          "execution_count": 59
        },
        {
          "output_type": "display_data",
          "data": {
            "text/plain": [
              "<Figure size 504x360 with 1 Axes>"
            ],
            "image/png": "[encoded data removed]"
          },
          "metadata": {}
        }
      ]
    },
    {
      "cell_type": "code",
      "source": [
        ""
      ],
      "metadata": {
        "id": "QV1KD1NievzS"
      },
      "execution_count": null,
      "outputs": []
    }
  ]
}